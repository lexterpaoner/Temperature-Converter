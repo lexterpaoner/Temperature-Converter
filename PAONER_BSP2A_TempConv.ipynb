{
 "cells": [
  {
   "cell_type": "code",
   "execution_count": 2,
   "id": "bfc5b349-85a9-4823-a866-faf3db30bbde",
   "metadata": {},
   "outputs": [
    {
     "name": "stdout",
     "output_type": "stream",
     "text": [
      "Welcome to the Temperature Converter!\n"
     ]
    },
    {
     "name": "stdin",
     "output_type": "stream",
     "text": [
      "Enter the temperature value:  100\n",
      "Enter the input unit (C, F, K, R):  c\n",
      "Enter the output unit (C, F, K, R):  f\n"
     ]
    },
    {
     "name": "stdout",
     "output_type": "stream",
     "text": [
      "\n",
      "Input Value: 100.0 C\n",
      "Output Unit: F\n",
      "Converted Result: 212.00 F\n"
     ]
    }
   ],
   "source": [
    "def to_celsius(value, unit):\n",
    "    \"\"\"Convert input temperature to Celsius.\"\"\"\n",
    "    unit = unit.upper()\n",
    "    if unit == 'C':\n",
    "        return value\n",
    "    elif unit == 'F':\n",
    "        return (value - 32) * 5/9\n",
    "    elif unit == 'K':\n",
    "        return value - 273.15\n",
    "    elif unit == 'R':\n",
    "        return (value - 491.67) * 5/9\n",
    "    else:\n",
    "        raise ValueError(\"Invalid input unit. Choose C, F, K, or R.\")\n",
    "\n",
    "def from_celsius(celsius_value, output_unit):\n",
    "    \"\"\"Convert Celsius temperature to target unit.\"\"\"\n",
    "    output_unit = output_unit.upper()\n",
    "    if output_unit == 'C':\n",
    "        return celsius_value\n",
    "    elif output_unit == 'F':\n",
    "        return (celsius_value * 9/5) + 32\n",
    "    elif output_unit == 'K':\n",
    "        return celsius_value + 273.15\n",
    "    elif output_unit == 'R':\n",
    "        return (celsius_value + 273.15) * 9/5\n",
    "    else:\n",
    "        raise ValueError(\"Invalid output unit. Choose C, F, K, or R.\")\n",
    "\n",
    "def temperature_converter():\n",
    "    print(\"Welcome to the Temperature Converter!\")\n",
    "    try:\n",
    "        value = float(input(\"Enter the temperature value: \"))\n",
    "        input_unit = input(\"Enter the input unit (C, F, K, R): \").strip().upper()\n",
    "        output_unit = input(\"Enter the output unit (C, F, K, R): \").strip().upper()\n",
    "        \n",
    "        celsius_temp = to_celsius(value, input_unit)\n",
    "        result_value = from_celsius(celsius_temp, output_unit)\n",
    "\n",
    "        \n",
    "        print(f\"\\nInput Value: {value} {input_unit}\")\n",
    "        print(f\"Output Unit: {output_unit}\")\n",
    "        print(f\"Converted Result: {result_value:.2f} {output_unit}\")\n",
    "    \n",
    "    except ValueError as e:\n",
    "        print(f\"Error: {e}\")\n",
    "\n",
    "temperature_converter()"
   ]
  },
  {
   "cell_type": "code",
   "execution_count": null,
   "id": "cd2acf0f-0627-4c47-b128-88bd01b11046",
   "metadata": {},
   "outputs": [],
   "source": []
  }
 ],
 "metadata": {
  "kernelspec": {
   "display_name": "Python [conda env:base] *",
   "language": "python",
   "name": "conda-base-py"
  },
  "language_info": {
   "codemirror_mode": {
    "name": "ipython",
    "version": 3
   },
   "file_extension": ".py",
   "mimetype": "text/x-python",
   "name": "python",
   "nbconvert_exporter": "python",
   "pygments_lexer": "ipython3",
   "version": "3.12.7"
  }
 },
 "nbformat": 4,
 "nbformat_minor": 5
}
