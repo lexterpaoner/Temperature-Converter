{
 "cells": [
  {
   "cell_type": "code",
   "execution_count": 41,
   "id": "df465f0b-af75-420f-82e3-f823abd3391a",
   "metadata": {},
   "outputs": [
    {
     "name": "stdin",
     "output_type": "stream",
     "text": [
      "Enter value: 100\n",
      "Enter unit input: c\n",
      "Enter unit output: c\n"
     ]
    },
    {
     "name": "stdout",
     "output_type": "stream",
     "text": [
      "100.0\n",
      "c\n",
      "c\n",
      "100.0\n"
     ]
    }
   ],
   "source": [
    "value = float(input(\"Enter value:\"))\n",
    "unit_input = input(\"Enter unit input:\")\n",
    "unit_output = input(\"Enter unit output:\")\n",
    "def insert(amount, unit_input, unit_output):\n",
    "    unit_input = unit_input.upper()\n",
    "    unit_output = unit_output.upper()\n",
    "\n",
    "print(value)\n",
    "print(unit_input)\n",
    "print(unit_output)\n",
    "\n",
    "if unit_input == \"C\":\n",
    "    \"C\" == value\n",
    "elif unit_input == \"F\":\n",
    "    \"F\" == (value - 32) * 5/9\n",
    "elif unit_input == \"K\":\n",
    "    \"K\" == value - 273.15\n",
    "elif unit_input == \"R\":\n",
    "    \"R\" == (value - 491.67)\n",
    "\n",
    "if unit_output == \"C\":\n",
    "    result == value\n",
    "elif unit_output == \"F\":\n",
    "    result == (value - 32) * 5/9\n",
    "elif unit_output == \"K\":\n",
    "    result == value - 273.15\n",
    "elif unit_output == \"R\":\n",
    "    result == (value - 491.67)\n",
    "solve\n",
    "print(value)"
   ]
  },
  {
   "cell_type": "code",
   "execution_count": 47,
   "id": "ca591c6e-e64e-4393-8ae4-33063fda3669",
   "metadata": {},
   "outputs": [
    {
     "name": "stdin",
     "output_type": "stream",
     "text": [
      "Enter value: 100\n",
      "Enter unit input: F\n"
     ]
    },
    {
     "ename": "TypeError",
     "evalue": "unsupported operand type(s) for /: 'str' and 'int'",
     "output_type": "error",
     "traceback": [
      "\u001b[1;31m---------------------------------------------------------------------------\u001b[0m",
      "\u001b[1;31mTypeError\u001b[0m                                 Traceback (most recent call last)",
      "Cell \u001b[1;32mIn[47], line 6\u001b[0m\n\u001b[0;32m      2\u001b[0m unit_input \u001b[38;5;241m=\u001b[39m \u001b[38;5;28minput\u001b[39m(\u001b[38;5;124m\"\u001b[39m\u001b[38;5;124mEnter unit input:\u001b[39m\u001b[38;5;124m\"\u001b[39m)\n\u001b[0;32m      4\u001b[0m unit_input \u001b[38;5;241m=\u001b[39m [\u001b[38;5;124m\"\u001b[39m\u001b[38;5;124mF\u001b[39m\u001b[38;5;124m\"\u001b[39m, \u001b[38;5;124m\"\u001b[39m\u001b[38;5;124mC\u001b[39m\u001b[38;5;124m\"\u001b[39m, \u001b[38;5;124m\"\u001b[39m\u001b[38;5;124mK\u001b[39m\u001b[38;5;124m\"\u001b[39m, \u001b[38;5;124m\"\u001b[39m\u001b[38;5;124mR\u001b[39m\u001b[38;5;124m\"\u001b[39m]\n\u001b[1;32m----> 6\u001b[0m \u001b[38;5;124m\"\u001b[39m\u001b[38;5;124mC\u001b[39m\u001b[38;5;124m\"\u001b[39m \u001b[38;5;241m==\u001b[39m \u001b[38;5;28mfloat\u001b[39m(\u001b[38;5;124m\"\u001b[39m\u001b[38;5;124mF\u001b[39m\u001b[38;5;124m\"\u001b[39m \u001b[38;5;241m*\u001b[39m \u001b[38;5;241m9\u001b[39m\u001b[38;5;241m/\u001b[39m\u001b[38;5;241m5\u001b[39m) \n\u001b[0;32m      7\u001b[0m \u001b[38;5;124m\"\u001b[39m\u001b[38;5;124mC\u001b[39m\u001b[38;5;124m\"\u001b[39m \u001b[38;5;241m==\u001b[39m \u001b[38;5;28mfloat\u001b[39m(\u001b[38;5;124m\"\u001b[39m\u001b[38;5;124mK\u001b[39m\u001b[38;5;124m\"\u001b[39m \u001b[38;5;241m+\u001b[39m \u001b[38;5;241m273.15\u001b[39m)\n\u001b[0;32m      8\u001b[0m \u001b[38;5;124m\"\u001b[39m\u001b[38;5;124mC\u001b[39m\u001b[38;5;124m\"\u001b[39m \u001b[38;5;241m==\u001b[39m \u001b[38;5;28mfloat\u001b[39m(\u001b[38;5;124m\"\u001b[39m\u001b[38;5;124mR\u001b[39m\u001b[38;5;124m\"\u001b[39m \u001b[38;5;241m+\u001b[39m \u001b[38;5;241m491.67\u001b[39m)\n",
      "\u001b[1;31mTypeError\u001b[0m: unsupported operand type(s) for /: 'str' and 'int'"
     ]
    }
   ],
   "source": [
    "value = float(input(\"Enter value:\"))\n",
    "unit_input = input(\"Enter unit input:\")\n",
    "\n",
    "unit_input = [\"F\", \"C\", \"K\", \"R\"]\n",
    "\n",
    "\"C\" == float(\"F\" * 9/5) \n",
    "\"C\" == float(\"K\" + 273.15)\n",
    "\"C\" == float(\"R\" + 491.67)\n",
    "\n",
    "print(value)\n",
    "print(\"C\")\n",
    "print(\"F\")\n",
    "print(\"K\")\n",
    "print(\"R\")\n",
    "\n"
   ]
  },
  {
   "cell_type": "code",
   "execution_count": 51,
   "id": "c144d01e-dc54-47ca-a94d-b9ffac23e73f",
   "metadata": {},
   "outputs": [
    {
     "name": "stdout",
     "output_type": "stream",
     "text": [
      "Welcome to the Temperature Converter!\n"
     ]
    },
    {
     "name": "stdin",
     "output_type": "stream",
     "text": [
      "Enter the temperature value:  100\n",
      "Enter the input unit (C, F, K, R):  c\n",
      "Enter the output unit (C, F, K, R):  f\n"
     ]
    },
    {
     "name": "stdout",
     "output_type": "stream",
     "text": [
      "\n",
      "Input Value: 100.0 C\n",
      "Output Unit: F\n",
      "Converted Result: 212.00 F\n"
     ]
    }
   ],
   "source": [
    "def to_celsius(value, unit):\n",
    "    \"\"\"Convert input temperature to Celsius.\"\"\"\n",
    "    unit = unit.upper()\n",
    "    if unit == 'C':\n",
    "        return value\n",
    "    elif unit == 'F':\n",
    "        return (value - 32) * 5/9\n",
    "    elif unit == 'K':\n",
    "        return value - 273.15\n",
    "    elif unit == 'R':\n",
    "        return (value - 491.67) * 5/9\n",
    "    else:\n",
    "        raise ValueError(\"Invalid input unit. Choose C, F, K, or R.\")\n",
    "\n",
    "def from_celsius(celsius_value, output_unit):\n",
    "    \"\"\"Convert Celsius temperature to target unit.\"\"\"\n",
    "    output_unit = output_unit.upper()\n",
    "    if output_unit == 'C':\n",
    "        return celsius_value\n",
    "    elif output_unit == 'F':\n",
    "        return (celsius_value * 9/5) + 32\n",
    "    elif output_unit == 'K':\n",
    "        return celsius_value + 273.15\n",
    "    elif output_unit == 'R':\n",
    "        return (celsius_value + 273.15) * 9/5\n",
    "    else:\n",
    "        raise ValueError(\"Invalid output unit. Choose C, F, K, or R.\")\n",
    "\n",
    "def temperature_converter():\n",
    "    print(\"Welcome to the Temperature Converter!\")\n",
    "    try:\n",
    "        value = float(input(\"Enter the temperature value: \"))\n",
    "        input_unit = input(\"Enter the input unit (C, F, K, R): \").strip().upper()\n",
    "        output_unit = input(\"Enter the output unit (C, F, K, R): \").strip().upper()\n",
    "        \n",
    "        celsius_temp = to_celsius(value, input_unit)\n",
    "        result_value = from_celsius(celsius_temp, output_unit)\n",
    "\n",
    "        \n",
    "        print(f\"\\nInput Value: {value} {input_unit}\")\n",
    "        print(f\"Output Unit: {output_unit}\")\n",
    "        print(f\"Converted Result: {result_value:.2f} {output_unit}\")\n",
    "    \n",
    "    except ValueError as e:\n",
    "        print(f\"Error: {e}\")\n",
    "\n",
    "temperature_converter()\n"
   ]
  },
  {
   "cell_type": "code",
   "execution_count": null,
   "id": "a643a3d7-bb5b-482a-b7f3-711678e4de50",
   "metadata": {},
   "outputs": [],
   "source": []
  }
 ],
 "metadata": {
  "kernelspec": {
   "display_name": "Python [conda env:base] *",
   "language": "python",
   "name": "conda-base-py"
  },
  "language_info": {
   "codemirror_mode": {
    "name": "ipython",
    "version": 3
   },
   "file_extension": ".py",
   "mimetype": "text/x-python",
   "name": "python",
   "nbconvert_exporter": "python",
   "pygments_lexer": "ipython3",
   "version": "3.12.7"
  }
 },
 "nbformat": 4,
 "nbformat_minor": 5
}
